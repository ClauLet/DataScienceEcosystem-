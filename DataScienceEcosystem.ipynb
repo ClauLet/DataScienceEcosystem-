{
 "cells": [
  {
   "cell_type": "markdown",
   "id": "ad64d108-1437-400e-bc9c-4e82bfd8df43",
   "metadata": {},
   "source": [
    "# Data Science Tools and Ecosystem"
   ]
  },
  {
   "cell_type": "markdown",
   "id": "0ded5ffa-94f6-4a0a-ad9f-1ea9dcff22c1",
   "metadata": {},
   "source": [
    "In this notebook, we summarize the tools and ecosystems of data science."
   ]
  },
  {
   "cell_type": "markdown",
   "id": "5fb114a5-e3b4-4ef8-b865-27565051823e",
   "metadata": {},
   "source": [
    "**Objectives:**\n",
    "\n",
    "- List popular languages for Data Science\n",
    "- Identify commonly used Data Science libraries\n",
    "- Demonstrate basic arithmetic operations in Python\n",
    "- Explore tools used in Data Science\n"
   ]
  },
  {
   "cell_type": "markdown",
   "id": "7cfe9ebb-561c-4da0-b5c6-323cc5d252d1",
   "metadata": {},
   "source": [
    "Some of the popular languages that Data Scientists use are:\n",
    "1. Python\n",
    "2. R\n",
    "3. SQL"
   ]
  },
  {
   "cell_type": "markdown",
   "id": "1869ccbe-b8d8-4895-b199-be3efa81b1b0",
   "metadata": {},
   "source": [
    "Some of the commonly used libraries by Data Scientists include:\n",
    "\n",
    "Python\n",
    "1. NumPy\n",
    "2. Pandas\n",
    "3. Seaborn\n",
    "4. Statsmodels\n",
    "5. Scipy\n",
    "\n",
    "R\n",
    "1. ggplot2\n",
    "2. dplyr\n",
    "3. caret \n"
   ]
  },
  {
   "cell_type": "markdown",
   "id": "951c6027-4880-4d8a-b82f-16e9f353f0ea",
   "metadata": {},
   "source": [
    "|  Data Science Tools |\n",
    "|----------------------------------|\n",
    "| Jupyter Notebook                 |\n",
    "| RStudio                          |\n",
    "| Apache Spark                     |\n"
   ]
  },
  {
   "cell_type": "markdown",
   "id": "585fd555-95a5-47b8-9508-bc724a0fbf0c",
   "metadata": {},
   "source": [
    "### Below are a few examples of evaluating arithmetic expressions in Python.\n"
   ]
  },
  {
   "cell_type": "code",
   "execution_count": 29,
   "id": "08b5ac6d-b066-42fd-aa30-731da77f068d",
   "metadata": {},
   "outputs": [
    {
     "data": {
      "text/plain": [
       "17"
      ]
     },
     "execution_count": 29,
     "metadata": {},
     "output_type": "execute_result"
    }
   ],
   "source": [
    "# This is a simple arithmetic expression to multiply and then add integers\n",
    "(3*4)+5\n"
   ]
  },
  {
   "cell_type": "code",
   "execution_count": 31,
   "id": "dd07b247-9a84-46ed-93e9-a4372d9cf037",
   "metadata": {},
   "outputs": [
    {
     "data": {
      "text/plain": [
       "3.3333333333333335"
      ]
     },
     "execution_count": 31,
     "metadata": {},
     "output_type": "execute_result"
    }
   ],
   "source": [
    "# This will convert 200 minutes to hours by dividing by 60\n",
    "200 / 60\n"
   ]
  },
  {
   "cell_type": "markdown",
   "id": "1e8df90a-ce46-40fe-b36c-1fdb76011f14",
   "metadata": {},
   "source": [
    "## Author \n",
    "Claudia Andrea Letelier Sepúlveda\n"
   ]
  },
  {
   "cell_type": "code",
   "execution_count": null,
   "id": "58e3cc18-3758-47ad-b5a7-d8063821a596",
   "metadata": {},
   "outputs": [],
   "source": []
  }
 ],
 "metadata": {
  "kernelspec": {
   "display_name": "Python [conda env:base] *",
   "language": "python",
   "name": "conda-base-py"
  },
  "language_info": {
   "codemirror_mode": {
    "name": "ipython",
    "version": 3
   },
   "file_extension": ".py",
   "mimetype": "text/x-python",
   "name": "python",
   "nbconvert_exporter": "python",
   "pygments_lexer": "ipython3",
   "version": "3.12.7"
  }
 },
 "nbformat": 4,
 "nbformat_minor": 5
}
